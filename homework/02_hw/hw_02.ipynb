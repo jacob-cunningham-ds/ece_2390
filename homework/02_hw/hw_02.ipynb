{
 "cells": [
  {
   "cell_type": "markdown",
   "metadata": {},
   "source": [
    "## Homework #2\n",
    "Due 9/23/2024"
   ]
  },
  {
   "cell_type": "markdown",
   "metadata": {},
   "source": [
    "## Problem 1\n",
    "Define a function to implement the peak-signal-to-noise calculation as described in lecture 4.  \n",
    "\n",
    "Note: In python functions have the form:"
   ]
  },
  {
   "cell_type": "code",
   "execution_count": null,
   "metadata": {},
   "outputs": [],
   "source": [
    "def myfunction(required_inputs,optional_inputs='defaultvalue'):\n",
    "    \"\"\"Comments describing what the function does and any inputs/outputs\n",
    "    \"\"\"\n",
    "    \n",
    "    pSNR = 1 # some code\n",
    "\n",
    "    return pSNR"
   ]
  },
  {
   "cell_type": "markdown",
   "metadata": {},
   "source": [
    "## Problem 2\n",
    "* a) Implement a spatial frequency low-pass filter at 1/3 the Nyquist frequency of the image using a top-hat window (e.g. binary 0/1)\n",
    "* b) Calculate the peak-SNR comparing the two images\n",
    "* c) Use any image you like.  Put the image in the data folder for this repo "
   ]
  },
  {
   "cell_type": "markdown",
   "metadata": {},
   "source": [
    "## Problem 3\n",
    "Implement a similar low-pass filter as problem 2 (1/3 the Nyquist) in the spatial domain as a kernel convolution (e.g. using the sinc function definitions in lecture 5).  Use a top-hat window (e.g. without worrying about tapering the edges).  Use the same image you used in problem 2. "
   ]
  },
  {
   "cell_type": "markdown",
   "metadata": {},
   "source": [
    "## Problem 4\n",
    "Define a function to implement a mean smoothing kernel filter.  \n",
    "\n",
    "[ECE1390]\n",
    "* As an input to your function, allow the user to select between a arithmatic, geometric, or harmonic mean\n",
    "* Assume a fixed 3x3 binary morphological kernel \n",
    "\n",
    "[ECE 2690]\n",
    "* As an input to your function, allow the user to select between a arithmatic, geometric, harmonic mean, or contraharmonic mean (\"m\" should be an input parameter)\n",
    "* Design your function to allow any arbitary binary morphological kernel "
   ]
  },
  {
   "cell_type": "markdown",
   "metadata": {},
   "source": [
    "## Problem 5 [ECE 2390 only]\n",
    "Define a function to compute the discrete cosine transform of an image.  Include code to pad the image appropriately. The equation for the DCT was given in lecture 4  "
   ]
  }
 ],
 "metadata": {
  "kernelspec": {
   "display_name": "Python 3 (ipykernel)",
   "language": "python",
   "name": "python3"
  },
  "language_info": {
   "codemirror_mode": {
    "name": "ipython",
    "version": 3
   },
   "file_extension": ".py",
   "mimetype": "text/x-python",
   "name": "python",
   "nbconvert_exporter": "python",
   "pygments_lexer": "ipython3",
   "version": "3.12.4"
  }
 },
 "nbformat": 4,
 "nbformat_minor": 4
}
